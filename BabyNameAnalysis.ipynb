{
 "cells": [
  {
   "cell_type": "markdown",
   "metadata": {},
   "source": [
    "# USA Baby Name Analysis from 1910 to 2015"
   ]
  },
  {
   "cell_type": "markdown",
   "metadata": {},
   "source": [
    "# Import Libraries"
   ]
  },
  {
   "cell_type": "code",
   "execution_count": 1,
   "metadata": {},
   "outputs": [
    {
     "data": {
      "application/javascript": [
       "IPython.notebook.set_autosave_interval(240000)"
      ]
     },
     "metadata": {},
     "output_type": "display_data"
    },
    {
     "name": "stdout",
     "output_type": "stream",
     "text": [
      "Autosaving every 240 seconds\n"
     ]
    }
   ],
   "source": [
    "%autosave 240"
   ]
  },
  {
   "cell_type": "code",
   "execution_count": 2,
   "metadata": {},
   "outputs": [
    {
     "name": "stderr",
     "output_type": "stream",
     "text": [
      "D:\\Python\\Anaconda\\lib\\site-packages\\h5py\\__init__.py:36: FutureWarning: Conversion of the second argument of issubdtype from `float` to `np.floating` is deprecated. In future, it will be treated as `np.float64 == np.dtype(float).type`.\n",
      "  from ._conv import register_converters as _register_converters\n",
      "Using TensorFlow backend.\n"
     ]
    }
   ],
   "source": [
    "import pandas as pd\n",
    "from collections import OrderedDict\n",
    "import math\n",
    "import numpy as np\n",
    "import pylab as plt\n",
    "from sklearn.preprocessing import StandardScaler\n",
    "from sklearn.preprocessing import LabelEncoder\n",
    "from sklearn.metrics import mean_squared_error\n",
    "from keras.models import Sequential\n",
    "from keras.layers import Dense\n",
    "from keras.layers import LSTM\n",
    "from keras import optimizers\n",
    "from sklearn.feature_selection import VarianceThreshold\n",
    "from scipy.interpolate import interp1d"
   ]
  },
  {
   "cell_type": "markdown",
   "metadata": {},
   "source": [
    "# Load Raw data from CSV"
   ]
  },
  {
   "cell_type": "code",
   "execution_count": 3,
   "metadata": {},
   "outputs": [
    {
     "name": "stdout",
     "output_type": "stream",
     "text": [
      "           Name  Year  Count\n",
      "88943      Mary  1910  22848\n",
      "88944     Helen  1910  10479\n",
      "88945  Margaret  1910   8226\n",
      "88946   Dorothy  1910   7318\n",
      "88947      Ruth  1910   7212\n"
     ]
    }
   ],
   "source": [
    "# read the data (NationalName.csv) from csv format\n",
    "nn = pd.read_csv(\"NationalNames.csv\")\n",
    "# Discard nn data before 1910\n",
    "nn = nn.query('Year>=1910').drop('Id', axis=1)\n",
    "nn = nn.drop('Gender', axis=1)\n",
    "# show sample data\n",
    "print(nn.head())\n"
   ]
  },
  {
   "cell_type": "markdown",
   "metadata": {},
   "source": [
    "\n",
    "# Preprocess Raw Data"
   ]
  },
  {
   "cell_type": "markdown",
   "metadata": {},
   "source": [
    "\n",
    "Weight Data with log-TF"
   ]
  },
  {
   "cell_type": "code",
   "execution_count": 4,
   "metadata": {},
   "outputs": [
    {
     "name": "stdout",
     "output_type": "stream",
     "text": [
      "Shape of data: 105 , 93805\n"
     ]
    }
   ],
   "source": [
    "list_of_names = sorted(nn.Name.unique())\n",
    "num_unique_names = len(list_of_names)\n",
    "num_years = len(nn.Year.unique())\n",
    "tf_template = dict.fromkeys(list_of_names, 0)\n",
    "tf_template = OrderedDict(sorted(tf_template.items(), key=lambda t: t[0]))\n",
    "print(\"Shape of data:\", num_years,\",\", num_unique_names)"
   ]
  },
  {
   "cell_type": "code",
   "execution_count": 5,
   "metadata": {},
   "outputs": [],
   "source": [
    "# Retrieve Raw Name Count data && generate weighted TF score\n",
    "nn_groupByYear = nn.groupby('Year')\n",
    "tfs = []\n",
    "wtfs = []\n",
    "for year,group in nn_groupByYear:\n",
    "    tf = tf_template.copy()\n",
    "    wtf = tf_template.copy()\n",
    "    for index, row in group.iterrows():\n",
    "        # ignore gender for now, plus would work just fine\n",
    "        tf[row['Name']] = tf[row['Name']] + row['Count']\n",
    "    for k,v in tf.items():\n",
    "        if v == 0:\n",
    "            wtf[k] = 1\n",
    "        else:\n",
    "            wtf[k] = 1 + np.log(v)\n",
    "    tfs.append(tf)\n",
    "    wtfs.append(wtf)"
   ]
  },
  {
   "cell_type": "code",
   "execution_count": null,
   "metadata": {},
   "outputs": [],
   "source": []
  },
  {
   "cell_type": "code",
   "execution_count": 6,
   "metadata": {},
   "outputs": [
    {
     "data": {
      "image/png": "[encoded data removed]",
      "text/plain": [
       "<matplotlib.figure.Figure at 0x29cee9257f0>"
      ]
     },
     "metadata": {},
     "output_type": "display_data"
    }
   ],
   "source": [
    "some_tf = np.array(sorted(tfs[-1].items(), key=lambda t: t[1], reverse=True))\n",
    "some_wtf = np.array(sorted(wtfs[-1].items(), key=lambda t: t[1], reverse=True))\n",
    "\n",
    "plt.plot(range(len(some_tf)),((some_tf[:,1]).astype(int)), label='TF')\n",
    "plt.plot(range(len(some_wtf)),((some_wtf[:,1]).astype(float)), label='Log-TF')\n",
    "plt.yscale('log')\n",
    "plt.title(\"Power law of name counts, 2015\")\n",
    "plt.ylabel(\"Counts(log-scaled)\")\n",
    "plt.xlabel(\"Names\")\n",
    "plt.legend()\n",
    "plt.show()"
   ]
  },
  {
   "cell_type": "markdown",
   "metadata": {},
   "source": [
    "\n",
    "# Visualize Raw Data"
   ]
  },
  {
   "cell_type": "code",
   "execution_count": 7,
   "metadata": {},
   "outputs": [
    {
     "data": {
      "image/png": "[encoded data removed]",
      "text/plain": [
       "<matplotlib.figure.Figure at 0x29c8284bda0>"
      ]
     },
     "metadata": {},
     "output_type": "display_data"
    }
   ],
   "source": [
    "# Plot the density graph of tfs\n",
    "y = range(num_unique_names)\n",
    "x = range(1910, 2015)\n",
    "z = np.array([[v for k,v in tf.items()] for tf in tfs])\n",
    "X,Y = np.meshgrid(x,y)\n",
    "\n",
    "plt.pcolormesh(X,Y,z.transpose(), cmap=plt.cm.Greys)\n",
    "plt.colorbar(label='counts')\n",
    "plt.title(\"Nation Names over Years(Raw)\")\n",
    "plt.xlabel(\"Years\")\n",
    "plt.ylabel(\"Names\")\n",
    "plt.show()"
   ]
  },
  {
   "cell_type": "markdown",
   "metadata": {
    "collapsed": true
   },
   "source": [
    "# Visualize Weighted Data"
   ]
  },
  {
   "cell_type": "code",
   "execution_count": 8,
   "metadata": {},
   "outputs": [
    {
     "data": {
      "image/png": "[encoded data removed]",
      "text/plain": [
       "<matplotlib.figure.Figure at 0x29cee925e80>"
      ]
     },
     "metadata": {},
     "output_type": "display_data"
    }
   ],
   "source": [
    "# Plot the density graph of tfs\n",
    "y = range(num_unique_names)\n",
    "x = range(1910, 2015)\n",
    "wz = np.array([[v for k,v in wtf.items()] for wtf in wtfs])\n",
    "X,Y = np.meshgrid(x,y)\n",
    "\n",
    "plt.pcolormesh(X,Y,wz.transpose(), cmap=plt.cm.Greys)\n",
    "plt.colorbar(label='log-TF')\n",
    "plt.title(\"Nation Names vs Years(Weighted)\")\n",
    "plt.xlabel(\"Years\")\n",
    "plt.ylabel(\"Names\")\n",
    "plt.show()"
   ]
  },
  {
   "cell_type": "markdown",
   "metadata": {},
   "source": [
    "# Define helper functions"
   ]
  },
  {
   "cell_type": "code",
   "execution_count": 9,
   "metadata": {},
   "outputs": [],
   "source": [
    "# This Functino is modified from \"How to Convert a Time Series to a Supervised Learning Problem in Python\"\n",
    "# \"https://machinelearningmastery.com/convert-time-series-supervised-learning-problem-python/\"\n",
    "# Purpose of this function is to convert time series data into data suitable for supervised learning\n",
    "\n",
    "def series_to_supervised(data, n_in=1, n_out=1, dropnan=True):\n",
    "\t\"\"\"\n",
    "\tFrame a time series as a supervised learning dataset.\n",
    "\tArguments:\n",
    "\t\tdata: Sequence of observations as a list or NumPy array.\n",
    "\t\tn_in: Number of lag observations as input (X).\n",
    "\t\tn_out: Number of observations as output (y).\n",
    "\t\tdropnan: Boolean whether or not to drop rows with NaN values.\n",
    "\tReturns:\n",
    "\t\tPandas DataFrame of series framed for supervised learning.\n",
    "\t\"\"\"\n",
    "\tn_vars = 1 if type(data) is list else data.shape[1]\n",
    "\tdf = pd.DataFrame(data)\n",
    "\tcols, names = list(), list()\n",
    "\t# input sequence (t-n, ... t-1)\n",
    "\tfor i in range(n_in, 0, -1):\n",
    "\t\tcols.append(df.shift(i))\n",
    "\t\tnames += [('var%d(t-%d)' % (j+1, i)) for j in range(n_vars)]\n",
    "\t# forecast sequence (t, t+1, ... t+n)\n",
    "\tfor i in range(0, n_out):\n",
    "\t\tcols.append(df.shift(-i))\n",
    "\t\tif i == 0:\n",
    "\t\t\tnames += [('var%d(t)' % (j+1)) for j in range(n_vars)]\n",
    "\t\telse:\n",
    "\t\t\tnames += [('var%d(t+%d)' % (j+1, i)) for j in range(n_vars)]\n",
    "\t# put it all together\n",
    "\tagg = pd.concat(cols, axis=1)\n",
    "\tagg.columns = names\n",
    "\t# drop rows with NaN values\n",
    "\tif dropnan:\n",
    "\t\tagg.dropna(inplace=True)\n",
    "\treturn agg"
   ]
  },
  {
   "cell_type": "code",
   "execution_count": 10,
   "metadata": {},
   "outputs": [],
   "source": [
    "score_metric = [0.25, 0.2, 0.15, 0.11, 0.09, 0.06, 0.05, 0.04, 0.03, 0.02]\n",
    "tk = len(score_metric)\n",
    "\n",
    "# This function computes the accuracy score of the prediction result\n",
    "def get_accuracy_score(y, y_hat):\n",
    "    y_t = sorted(range(len(y)), key=lambda i: y[i], reverse=True)[:tk]\n",
    "    y_hat_t = sorted(range(len(y_hat)), key=lambda i: y_hat[i], reverse=True)[:tk]\n",
    "    score = 0\n",
    "    for i in range(tk):\n",
    "        if y_t[i] == y_hat_t[i]:\n",
    "            score = score + 0.8 * score_metric[i]\n",
    "        if y_hat_t[i] in y_t:\n",
    "            score = score + 0.2 * 1/tk\n",
    "    return score\n",
    "    "
   ]
  },
  {
   "cell_type": "markdown",
   "metadata": {
    "collapsed": true
   },
   "source": [
    "# Multivariate LSTM-RNN Model\n",
    "\n",
    "Implement a LSTM rnn model to process name count as time series data"
   ]
  },
  {
   "cell_type": "code",
   "execution_count": 11,
   "metadata": {},
   "outputs": [],
   "source": [
    "n_years_back = 5\n",
    "n_features = num_unique_names"
   ]
  },
  {
   "cell_type": "code",
   "execution_count": 12,
   "metadata": {},
   "outputs": [
    {
     "name": "stdout",
     "output_type": "stream",
     "text": [
      "(105, 93805)\n",
      "(100, 562830)\n"
     ]
    }
   ],
   "source": [
    "# put processed data back to dataframe\n",
    "dataset = pd.DataFrame(wz)\n",
    "print(dataset.shape)\n",
    "\n",
    "# normalize features using scaler to (0,1)\n",
    "scaler = StandardScaler()\n",
    "scaled = scaler.fit_transform(dataset)\n",
    "\n",
    "# adapt data for supervised learning\n",
    "adapted = series_to_supervised(scaled, n_years_back, 1)\n",
    "print(adapted.shape)"
   ]
  },
  {
   "cell_type": "code",
   "execution_count": 13,
   "metadata": {},
   "outputs": [
    {
     "name": "stdout",
     "output_type": "stream",
     "text": [
      "(63, 469025) 63 (37, 93805)\n"
     ]
    }
   ],
   "source": [
    "# split data into train and test sets\n",
    "train_ratio = 0.633\n",
    "num_train = int(train_ratio * adapted.shape[0])\n",
    "\n",
    "values = adapted.values\n",
    "train = values[:num_train, :]\n",
    "test = values[num_train:, :]\n",
    "\n",
    "n_obs = n_years_back * n_features\n",
    "train_X_o, train_y_o = train[:, :n_obs], train[:, -n_features:]\n",
    "test_X_o, test_y_o = test[:, :n_obs], test[:, -n_features:]\n",
    "print(train_X_o.shape, len(train_X_o), test_y_o.shape)"
   ]
  },
  {
   "cell_type": "code",
   "execution_count": 14,
   "metadata": {},
   "outputs": [
    {
     "name": "stdout",
     "output_type": "stream",
     "text": [
      "(63, 5, 93805) (63, 93805) (37, 5, 93805) (37, 93805)\n"
     ]
    }
   ],
   "source": [
    "# reshape data to 3d\n",
    "train_X = train_X_o.reshape((train_X_o.shape[0], n_years_back, n_features))\n",
    "test_X = test_X_o.reshape((test_X_o.shape[0], n_years_back, n_features))\n",
    "\n",
    "train_y = train_y_o\n",
    "test_y = test_y_o\n",
    "\n",
    "# train_y = train_y_o.reshape(train_y_o.shape[0], 1, n_features)\n",
    "# test_y = test_y.reshape(test_y.shape[0], 1, n_features)\n",
    "\n",
    "print(train_X.shape, train_y.shape, test_X.shape, test_y.shape)"
   ]
  },
  {
   "cell_type": "code",
   "execution_count": 15,
   "metadata": {},
   "outputs": [],
   "source": [
    "# model \n",
    "model = Sequential()\n",
    "model.add(LSTM(32, input_shape=(train_X.shape[1], train_X.shape[2])))\n",
    "model.add(Dense(n_features))\n",
    "adam = optimizers.Adam(lr=0.001)\n",
    "\n",
    "model.compile(loss='mae', optimizer=adam)"
   ]
  },
  {
   "cell_type": "code",
   "execution_count": 16,
   "metadata": {
    "scrolled": true
   },
   "outputs": [
    {
     "name": "stdout",
     "output_type": "stream",
     "text": [
      "Train on 63 samples, validate on 37 samples\n",
      "Epoch 1/100\n",
      "63/63 [==============================] - 6s 91ms/step - loss: 0.4014 - val_loss: 0.7330\n",
      "Epoch 2/100\n",
      "63/63 [==============================] - 2s 28ms/step - loss: 0.3876 - val_loss: 0.7324\n",
      "Epoch 3/100\n",
      "63/63 [==============================] - 2s 27ms/step - loss: 0.3638 - val_loss: 0.7302\n",
      "Epoch 4/100\n",
      "63/63 [==============================] - 2s 27ms/step - loss: 0.3369 - val_loss: 0.7289\n",
      "Epoch 5/100\n",
      "63/63 [==============================] - 2s 27ms/step - loss: 0.3125 - val_loss: 0.7273\n",
      "Epoch 6/100\n",
      "63/63 [==============================] - 2s 28ms/step - loss: 0.2933 - val_loss: 0.7256\n",
      "Epoch 7/100\n",
      "63/63 [==============================] - 2s 29ms/step - loss: 0.2762 - val_loss: 0.7243\n",
      "Epoch 8/100\n",
      "63/63 [==============================] - 2s 27ms/step - loss: 0.2603 - val_loss: 0.7233\n",
      "Epoch 9/100\n",
      "63/63 [==============================] - 2s 27ms/step - loss: 0.2461 - val_loss: 0.7224\n",
      "Epoch 10/100\n",
      "63/63 [==============================] - 2s 27ms/step - loss: 0.2337 - val_loss: 0.7216\n",
      "Epoch 11/100\n",
      "63/63 [==============================] - 2s 28ms/step - loss: 0.2234 - val_loss: 0.7210\n",
      "Epoch 12/100\n",
      "63/63 [==============================] - 2s 30ms/step - loss: 0.2143 - val_loss: 0.7204\n",
      "Epoch 13/100\n",
      "63/63 [==============================] - 2s 26ms/step - loss: 0.2066 - val_loss: 0.7200\n",
      "Epoch 14/100\n",
      "63/63 [==============================] - 2s 28ms/step - loss: 0.1999 - val_loss: 0.7198\n",
      "Epoch 15/100\n",
      "63/63 [==============================] - 1s 23ms/step - loss: 0.1944 - val_loss: 0.7196\n",
      "Epoch 16/100\n",
      "63/63 [==============================] - 2s 24ms/step - loss: 0.1898 - val_loss: 0.7196\n",
      "Epoch 17/100\n",
      "63/63 [==============================] - 1s 23ms/step - loss: 0.1856 - val_loss: 0.7195\n",
      "Epoch 18/100\n",
      "63/63 [==============================] - 2s 24ms/step - loss: 0.1821 - val_loss: 0.7195\n",
      "Epoch 19/100\n",
      "63/63 [==============================] - 1s 24ms/step - loss: 0.1789 - val_loss: 0.7195\n",
      "Epoch 20/100\n",
      "63/63 [==============================] - 2s 25ms/step - loss: 0.1764 - val_loss: 0.7195\n",
      "Epoch 21/100\n",
      "63/63 [==============================] - 2s 26ms/step - loss: 0.1742 - val_loss: 0.7194\n",
      "Epoch 22/100\n",
      "63/63 [==============================] - 1s 23ms/step - loss: 0.1722 - val_loss: 0.7193\n",
      "Epoch 23/100\n",
      "63/63 [==============================] - 1s 23ms/step - loss: 0.1705 - val_loss: 0.7191\n",
      "Epoch 24/100\n",
      "63/63 [==============================] - 2s 25ms/step - loss: 0.1689 - val_loss: 0.7188\n",
      "Epoch 25/100\n",
      "63/63 [==============================] - 2s 24ms/step - loss: 0.1675 - val_loss: 0.7186\n",
      "Epoch 26/100\n",
      "63/63 [==============================] - 1s 24ms/step - loss: 0.1662 - val_loss: 0.7183\n",
      "Epoch 27/100\n",
      "63/63 [==============================] - 1s 24ms/step - loss: 0.1651 - val_loss: 0.7181\n",
      "Epoch 28/100\n",
      "63/63 [==============================] - 1s 22ms/step - loss: 0.1642 - val_loss: 0.7179\n",
      "Epoch 29/100\n",
      "63/63 [==============================] - 1s 23ms/step - loss: 0.1633 - val_loss: 0.7178\n",
      "Epoch 30/100\n",
      "63/63 [==============================] - 2s 24ms/step - loss: 0.1625 - val_loss: 0.7177\n",
      "Epoch 31/100\n",
      "63/63 [==============================] - 2s 25ms/step - loss: 0.1618 - val_loss: 0.7176\n",
      "Epoch 32/100\n",
      "63/63 [==============================] - 2s 24ms/step - loss: 0.1612 - val_loss: 0.7175\n",
      "Epoch 33/100\n",
      "63/63 [==============================] - 1s 23ms/step - loss: 0.1607 - val_loss: 0.7174\n",
      "Epoch 34/100\n",
      "63/63 [==============================] - 1s 23ms/step - loss: 0.1601 - val_loss: 0.7174\n",
      "Epoch 35/100\n",
      "63/63 [==============================] - 2s 25ms/step - loss: 0.1596 - val_loss: 0.7174\n",
      "Epoch 36/100\n",
      "63/63 [==============================] - 2s 24ms/step - loss: 0.1591 - val_loss: 0.7174\n",
      "Epoch 37/100\n",
      "63/63 [==============================] - 2s 24ms/step - loss: 0.1585 - val_loss: 0.7174\n",
      "Epoch 38/100\n",
      "63/63 [==============================] - 1s 24ms/step - loss: 0.1582 - val_loss: 0.7175\n",
      "Epoch 39/100\n",
      "63/63 [==============================] - 2s 24ms/step - loss: 0.1580 - val_loss: 0.7176\n",
      "Epoch 40/100\n",
      "63/63 [==============================] - 2s 24ms/step - loss: 0.1577 - val_loss: 0.7176\n",
      "Epoch 41/100\n",
      "63/63 [==============================] - 2s 24ms/step - loss: 0.1574 - val_loss: 0.7177\n",
      "Epoch 42/100\n",
      "63/63 [==============================] - 1s 23ms/step - loss: 0.1571 - val_loss: 0.7177\n",
      "Epoch 43/100\n",
      "63/63 [==============================] - 2s 25ms/step - loss: 0.1568 - val_loss: 0.7177\n",
      "Epoch 44/100\n",
      "63/63 [==============================] - 1s 23ms/step - loss: 0.1565 - val_loss: 0.7176\n",
      "Epoch 45/100\n",
      "63/63 [==============================] - 2s 24ms/step - loss: 0.1563 - val_loss: 0.7176\n",
      "Epoch 46/100\n",
      "63/63 [==============================] - 2s 24ms/step - loss: 0.1560 - val_loss: 0.7175\n",
      "Epoch 47/100\n",
      "63/63 [==============================] - 2s 26ms/step - loss: 0.1558 - val_loss: 0.7174\n",
      "Epoch 48/100\n",
      "63/63 [==============================] - 1s 23ms/step - loss: 0.1555 - val_loss: 0.7173\n",
      "Epoch 49/100\n",
      "63/63 [==============================] - 2s 25ms/step - loss: 0.1553 - val_loss: 0.7172\n",
      "Epoch 50/100\n",
      "63/63 [==============================] - 2s 26ms/step - loss: 0.1551 - val_loss: 0.7171\n",
      "Epoch 51/100\n",
      "63/63 [==============================] - 1s 23ms/step - loss: 0.1548 - val_loss: 0.7170\n",
      "Epoch 52/100\n",
      "63/63 [==============================] - 2s 25ms/step - loss: 0.1548 - val_loss: 0.7169\n",
      "Epoch 53/100\n",
      "63/63 [==============================] - 2s 26ms/step - loss: 0.1545 - val_loss: 0.7168\n",
      "Epoch 54/100\n",
      "63/63 [==============================] - 2s 30ms/step - loss: 0.1543 - val_loss: 0.7168\n",
      "Epoch 55/100\n",
      "63/63 [==============================] - 2s 30ms/step - loss: 0.1541 - val_loss: 0.7167\n",
      "Epoch 56/100\n",
      "63/63 [==============================] - 2s 29ms/step - loss: 0.1539 - val_loss: 0.7166\n",
      "Epoch 57/100\n",
      "63/63 [==============================] - 2s 30ms/step - loss: 0.1538 - val_loss: 0.7165\n",
      "Epoch 58/100\n",
      "63/63 [==============================] - 2s 31ms/step - loss: 0.1535 - val_loss: 0.7164\n",
      "Epoch 59/100\n",
      "63/63 [==============================] - 2s 29ms/step - loss: 0.1534 - val_loss: 0.7164\n",
      "Epoch 60/100\n",
      "63/63 [==============================] - 2s 28ms/step - loss: 0.1532 - val_loss: 0.7163\n",
      "Epoch 61/100\n",
      "63/63 [==============================] - 2s 29ms/step - loss: 0.1530 - val_loss: 0.7162\n",
      "Epoch 62/100\n",
      "63/63 [==============================] - 2s 29ms/step - loss: 0.1528 - val_loss: 0.7161\n",
      "Epoch 63/100\n",
      "63/63 [==============================] - 2s 34ms/step - loss: 0.1527 - val_loss: 0.7160\n",
      "Epoch 64/100\n",
      "63/63 [==============================] - 2s 29ms/step - loss: 0.1525 - val_loss: 0.7159\n",
      "Epoch 65/100\n",
      "63/63 [==============================] - 2s 28ms/step - loss: 0.1524 - val_loss: 0.7158\n",
      "Epoch 66/100\n",
      "63/63 [==============================] - 2s 29ms/step - loss: 0.1522 - val_loss: 0.7157\n",
      "Epoch 67/100\n",
      "63/63 [==============================] - 2s 31ms/step - loss: 0.1520 - val_loss: 0.7156\n",
      "Epoch 68/100\n",
      "63/63 [==============================] - 2s 36ms/step - loss: 0.1518 - val_loss: 0.7156\n",
      "Epoch 69/100\n",
      "63/63 [==============================] - 2s 34ms/step - loss: 0.1517 - val_loss: 0.7155\n",
      "Epoch 70/100\n",
      "63/63 [==============================] - 2s 33ms/step - loss: 0.1515 - val_loss: 0.7154\n",
      "Epoch 71/100\n",
      "63/63 [==============================] - 2s 33ms/step - loss: 0.1514 - val_loss: 0.7153\n",
      "Epoch 72/100\n",
      "63/63 [==============================] - 2s 34ms/step - loss: 0.1512 - val_loss: 0.7153\n",
      "Epoch 73/100\n",
      "63/63 [==============================] - 2s 32ms/step - loss: 0.1511 - val_loss: 0.7152\n",
      "Epoch 74/100\n",
      "63/63 [==============================] - 2s 35ms/step - loss: 0.1509 - val_loss: 0.7151\n",
      "Epoch 75/100\n",
      "63/63 [==============================] - 2s 34ms/step - loss: 0.1508 - val_loss: 0.7151\n",
      "Epoch 76/100\n",
      "63/63 [==============================] - 2s 27ms/step - loss: 0.1506 - val_loss: 0.7150\n",
      "Epoch 77/100\n",
      "63/63 [==============================] - 2s 26ms/step - loss: 0.1505 - val_loss: 0.7149\n",
      "Epoch 78/100\n",
      "63/63 [==============================] - 2s 29ms/step - loss: 0.1504 - val_loss: 0.7149\n",
      "Epoch 79/100\n",
      "63/63 [==============================] - 2s 26ms/step - loss: 0.1502 - val_loss: 0.7148\n",
      "Epoch 80/100\n",
      "63/63 [==============================] - 2s 27ms/step - loss: 0.1500 - val_loss: 0.7148\n",
      "Epoch 81/100\n",
      "63/63 [==============================] - 2s 27ms/step - loss: 0.1502 - val_loss: 0.7148\n"
     ]
    },
    {
     "name": "stdout",
     "output_type": "stream",
     "text": [
      "Epoch 82/100\n",
      "63/63 [==============================] - 2s 30ms/step - loss: 0.1505 - val_loss: 0.7147\n",
      "Epoch 83/100\n",
      "63/63 [==============================] - 2s 29ms/step - loss: 0.1498 - val_loss: 0.7147\n",
      "Epoch 84/100\n",
      "63/63 [==============================] - 2s 29ms/step - loss: 0.1495 - val_loss: 0.7147\n",
      "Epoch 85/100\n",
      "63/63 [==============================] - 2s 26ms/step - loss: 0.1493 - val_loss: 0.7147\n",
      "Epoch 86/100\n",
      "63/63 [==============================] - 2s 30ms/step - loss: 0.1492 - val_loss: 0.7146\n",
      "Epoch 87/100\n",
      "63/63 [==============================] - 2s 27ms/step - loss: 0.1490 - val_loss: 0.7146\n",
      "Epoch 88/100\n",
      "63/63 [==============================] - 2s 27ms/step - loss: 0.1490 - val_loss: 0.7145\n",
      "Epoch 89/100\n",
      "63/63 [==============================] - 2s 28ms/step - loss: 0.1488 - val_loss: 0.7144\n",
      "Epoch 90/100\n",
      "63/63 [==============================] - 2s 29ms/step - loss: 0.1487 - val_loss: 0.7144\n",
      "Epoch 91/100\n",
      "63/63 [==============================] - 2s 28ms/step - loss: 0.1485 - val_loss: 0.7143\n",
      "Epoch 92/100\n",
      "63/63 [==============================] - 2s 27ms/step - loss: 0.1483 - val_loss: 0.7142\n",
      "Epoch 93/100\n",
      "63/63 [==============================] - 2s 27ms/step - loss: 0.1482 - val_loss: 0.7142\n",
      "Epoch 94/100\n",
      "63/63 [==============================] - 2s 28ms/step - loss: 0.1481 - val_loss: 0.7142\n",
      "Epoch 95/100\n",
      "63/63 [==============================] - 2s 27ms/step - loss: 0.1479 - val_loss: 0.7141\n",
      "Epoch 96/100\n",
      "63/63 [==============================] - 2s 27ms/step - loss: 0.1478 - val_loss: 0.7141\n",
      "Epoch 97/100\n",
      "63/63 [==============================] - 2s 31ms/step - loss: 0.1477 - val_loss: 0.7141\n",
      "Epoch 98/100\n",
      "63/63 [==============================] - 2s 27ms/step - loss: 0.1476 - val_loss: 0.7140\n",
      "Epoch 99/100\n",
      "63/63 [==============================] - 2s 28ms/step - loss: 0.1474 - val_loss: 0.7140\n",
      "Epoch 100/100\n",
      "63/63 [==============================] - 2s 26ms/step - loss: 0.1473 - val_loss: 0.7140\n",
      "Wall time: 2min 56s\n"
     ]
    }
   ],
   "source": [
    "%%time\n",
    "# fir model\n",
    "# silence the training process for simplicity\n",
    "result = model.fit(train_X, train_y, epochs=100, batch_size=32, validation_data=(test_X, test_y), verbose=1, shuffle=False)"
   ]
  },
  {
   "cell_type": "code",
   "execution_count": 17,
   "metadata": {},
   "outputs": [
    {
     "data": {
      "image/png": "[encoded data removed]",
      "text/plain": [
       "<matplotlib.figure.Figure at 0x29c8283f198>"
      ]
     },
     "metadata": {},
     "output_type": "display_data"
    }
   ],
   "source": [
    "# plot loss over epochs\n",
    "plt.plot(result.history['loss'], label='train')\n",
    "plt.plot(result.history['val_loss'], label='test')\n",
    "plt.legend()\n",
    "plt.show()"
   ]
  },
  {
   "cell_type": "code",
   "execution_count": 18,
   "metadata": {},
   "outputs": [],
   "source": [
    "# model.get_config()"
   ]
  },
  {
   "cell_type": "code",
   "execution_count": 19,
   "metadata": {},
   "outputs": [
    {
     "name": "stdout",
     "output_type": "stream",
     "text": [
      "Test RMSE: 1.0608\n",
      "Train RMSE: 0.4819\n"
     ]
    }
   ],
   "source": [
    "# make a prediction for test set\n",
    "test_yhat = model.predict(test_X)\n",
    "\n",
    "test_X_s = test_X.reshape((test_X.shape[0], n_years_back * n_features))\n",
    "# invert scaling for prediction\n",
    "test_inv_yhat = scaler.inverse_transform(test_yhat)\n",
    "# invert scaling for actual\n",
    "test_inv_y = scaler.inverse_transform(test_y)\n",
    "# calculate RMSE\n",
    "rmse = math.sqrt(mean_squared_error(test_inv_y, test_inv_yhat))\n",
    "print('Test RMSE: %.4f' % rmse)\n",
    "\n",
    "# make a prediction for train set\n",
    "train_yhat = model.predict(train_X)\n",
    "train_X_s = train_X.reshape((train_X.shape[0], n_years_back * n_features))\n",
    "# invert scaling for prediction\n",
    "train_inv_yhat = scaler.inverse_transform(train_yhat)\n",
    "# invert scaling for actual\n",
    "train_inv_y = scaler.inverse_transform(train_y)\n",
    "\n",
    "# calculate RMSE\n",
    "rmse = math.sqrt(mean_squared_error(train_inv_y, train_inv_yhat))\n",
    "print('Train RMSE: %.4f' % rmse)"
   ]
  },
  {
   "cell_type": "code",
   "execution_count": 20,
   "metadata": {},
   "outputs": [
    {
     "name": "stdout",
     "output_type": "stream",
     "text": [
      "Year of  2014 :\n",
      "Truth:       ('Emma', 'Olivia', 'Noah', 'Sophia', 'Liam')\n",
      "Prediction:  ('James', 'John', 'Robert', 'William', 'Mary')\n",
      "Year of  2013 :\n",
      "Truth:       ('Sophia', 'Emma', 'Olivia', 'Noah', 'Liam')\n",
      "Prediction:  ('James', 'John', 'Robert', 'William', 'Mary')\n"
     ]
    }
   ],
   "source": [
    "# sample comparison\n",
    "n_top = 5\n",
    "\n",
    "for itr in range(1,3):\n",
    "    year = 2015 - itr\n",
    "    print('Year of ', year, ':')\n",
    "    # load truth and prediction into dict\n",
    "    d = {}\n",
    "    d_hat = {}\n",
    "    for i in range(n_features):\n",
    "        d[list_of_names[i]] = wz[-itr][i]\n",
    "        d_hat[list_of_names[i]] = test_inv_yhat[-itr][i]\n",
    "    truth = list(zip(*sorted(d.items(), key=lambda t: t[1], reverse=True)))\n",
    "    pred = list(zip(*sorted(d_hat.items(), key=lambda t: t[1], reverse=True)))\n",
    "    \n",
    "    print('Truth:      ', truth[0][:n_top])\n",
    "#    print('Truth:      ', list(zip(*sorted(d.items(), key=lambda t: t[1], reverse=True)))[1][:n_top])\n",
    "    print('Prediction: ', pred[0][:n_top])\n",
    "#    print('Prediction: ', list(zip(*sorted(d_hat.items(), key=lambda t: t[1], reverse=True)))[1][:n_top])"
   ]
  },
  {
   "cell_type": "code",
   "execution_count": 21,
   "metadata": {
    "scrolled": true
   },
   "outputs": [
    {
     "name": "stdout",
     "output_type": "stream",
     "text": [
      "(100, 93805)\n"
     ]
    },
    {
     "data": {
      "image/png": "[encoded data removed]",
      "text/plain": [
       "<matplotlib.figure.Figure at 0x29cee931d30>"
      ]
     },
     "metadata": {},
     "output_type": "display_data"
    }
   ],
   "source": [
    "# plot predicted data\n",
    "z_hat = np.concatenate((train_inv_yhat, test_inv_yhat))\n",
    "print(z_hat.shape)\n",
    "\n",
    "# Plot the density graph of tfs\n",
    "y = range(num_unique_names)\n",
    "x = range(1910+n_years_back, 2015)\n",
    "X,Y = np.meshgrid(x,y)\n",
    "\n",
    "plt.pcolormesh(X,Y,z_hat.transpose(), cmap=plt.cm.Greys)\n",
    "plt.colorbar(label='log-TF')\n",
    "plt.title(\"Nation Names vs Years(Predicted by Mul. w/o Feature selection)\")\n",
    "plt.xlabel(\"Years\")\n",
    "plt.ylabel(\"Names\")\n",
    "plt.axvline(x=1910+int(train_ratio*num_years))\n",
    "plt.show()"
   ]
  },
  {
   "cell_type": "code",
   "execution_count": 22,
   "metadata": {},
   "outputs": [],
   "source": [
    "train_inv_yhat_m1 = train_inv_yhat\n",
    "train_inv_y_m1 = train_inv_y\n",
    "test_inv_yhat_m1 = test_inv_yhat\n",
    "test_inv_y_m1 = test_inv_y"
   ]
  },
  {
   "cell_type": "code",
   "execution_count": 23,
   "metadata": {},
   "outputs": [
    {
     "name": "stdout",
     "output_type": "stream",
     "text": [
      "[0.32 0.34 0.32 0.32 0.32 0.35 0.35 0.35 0.35 0.48 0.51 0.58 0.6  0.6\n",
      " 0.81 0.85 0.49 0.85 0.85 0.78 0.39 0.34 0.37 0.37 0.55 0.48 0.52 0.43\n",
      " 0.37 0.37 0.37 0.37 0.29 0.25 0.25 0.41 0.28 0.28 0.52 0.35 0.19 0.35\n",
      " 0.32 0.16 0.16 0.16 0.28 0.28 0.16 0.16 0.16 0.14 0.14 0.26 0.12 0.12\n",
      " 0.12 0.39 0.32 0.37 0.3  0.32 0.34 0.36 0.32 0.32 0.3  0.28 0.3  0.3\n",
      " 0.28 0.28 0.26 0.04 0.04 0.04 0.06 0.02 0.02 0.02 0.02 0.   0.   0.\n",
      " 0.02 0.02 0.02 0.02 0.02 0.   0.   0.   0.02 0.02 0.02 0.02 0.02 0.02\n",
      " 0.02 0.02]\n"
     ]
    },
    {
     "data": {
      "image/png": "[encoded data removed]",
      "text/plain": [
       "<matplotlib.figure.Figure at 0x29cee90dbe0>"
      ]
     },
     "metadata": {},
     "output_type": "display_data"
    }
   ],
   "source": [
    "# compute and plot scores of test set\n",
    "scores = []\n",
    "\n",
    "final_truth = np.concatenate((train_inv_y, test_inv_y))\n",
    "final_result = np.concatenate((train_inv_yhat, test_inv_yhat))\n",
    "\n",
    "for i in range(len(adapted)):\n",
    "    # global_index = n_years_back + num_train + i\n",
    "    scores.append( get_accuracy_score(final_truth[i], final_result[i]))\n",
    "\n",
    "print(np.round(scores, 2))\n",
    "plt.plot(np.round(scores, 2), label='Accuracy Score')\n",
    "plt.axvline(x=num_train, linestyle='-.', color='r')\n",
    "plt.title('Accuracy Score for Multivariate Model w/o Feature Selection')\n",
    "plt.xlabel('Year increment starting with 1910')\n",
    "plt.legend()\n",
    "plt.show()"
   ]
  },
  {
   "cell_type": "code",
   "execution_count": 24,
   "metadata": {},
   "outputs": [
    {
     "name": "stdout",
     "output_type": "stream",
     "text": [
      "0.3706031746031747 0.09502702702702705\n"
     ]
    }
   ],
   "source": [
    "print(np.mean(scores[:num_train]), np.mean(scores[num_train:]))"
   ]
  },
  {
   "cell_type": "markdown",
   "metadata": {},
   "source": [
    "# Feature Selection\n",
    "There are lots of names that appear only a few times and does not has impact on training process, maybe we could ignore them when training the model to alleviate the curse of demensionality\n",
    "\n",
    "Few possibilities:\n",
    "1. ~~PCA (OOM)~~\n",
    "2. Remove features with low variance\n",
    "3. ~~Mutual information~~(shouldn't change much)"
   ]
  },
  {
   "cell_type": "code",
   "execution_count": 25,
   "metadata": {},
   "outputs": [],
   "source": [
    "variance_threshold = 0.5"
   ]
  },
  {
   "cell_type": "code",
   "execution_count": 26,
   "metadata": {},
   "outputs": [
    {
     "name": "stdout",
     "output_type": "stream",
     "text": [
      "(105, 93805)\n"
     ]
    }
   ],
   "source": [
    "dataset_v = dataset.values[:, :]\n",
    "print(dataset_v.shape)"
   ]
  },
  {
   "cell_type": "code",
   "execution_count": 27,
   "metadata": {},
   "outputs": [
    {
     "name": "stdout",
     "output_type": "stream",
     "text": [
      "61950\n"
     ]
    }
   ],
   "source": [
    "# apply variance filter\n",
    "vt_selector = VarianceThreshold(threshold=variance_threshold)\n",
    "vt_selector.fit(dataset_v)\n",
    "var_idx = [ i for (i, v) in enumerate(vt_selector.variances_) if v < variance_threshold]\n",
    "print(len(var_idx))"
   ]
  },
  {
   "cell_type": "code",
   "execution_count": 28,
   "metadata": {},
   "outputs": [
    {
     "name": "stdout",
     "output_type": "stream",
     "text": [
      "[1.15053199 1.05478641 1.01532798 ... 1.01706438 1.01706438 1.01532798]\n",
      "59097\n"
     ]
    }
   ],
   "source": [
    "# apply mean filter\n",
    "sum = dataset_v.sum(axis=0)/num_years\n",
    "print(sum)\n",
    "k = int(0.63 * n_features)\n",
    "mean_idx = np.argpartition(sum, k)[:k]\n",
    "print(len(mean_idx))"
   ]
  },
  {
   "cell_type": "code",
   "execution_count": 29,
   "metadata": {},
   "outputs": [
    {
     "name": "stdout",
     "output_type": "stream",
     "text": [
      "58756\n"
     ]
    }
   ],
   "source": [
    "remove_idx = list(set(mean_idx).intersection(set(var_idx)))\n",
    "print(len(remove_idx))\n",
    "n_features_r = n_features - len(remove_idx)"
   ]
  },
  {
   "cell_type": "code",
   "execution_count": 30,
   "metadata": {},
   "outputs": [
    {
     "name": "stdout",
     "output_type": "stream",
     "text": [
      "35049\n"
     ]
    }
   ],
   "source": [
    "# modify list of name\n",
    "list_of_names_fs = np.delete(list_of_names, remove_idx, axis=0)\n",
    "print(len(list_of_names_fs))"
   ]
  },
  {
   "cell_type": "code",
   "execution_count": 31,
   "metadata": {},
   "outputs": [
    {
     "name": "stdout",
     "output_type": "stream",
     "text": [
      "(100, 210294)\n"
     ]
    }
   ],
   "source": [
    "# remove irrelevant features\n",
    "dataset_v_fs = np.delete(dataset_v, remove_idx, axis=1)\n",
    "\n",
    "# normalize features using scaler to (0,1)\n",
    "scaler2 = StandardScaler()\n",
    "scaled2 = scaler2.fit_transform(dataset_v_fs)\n",
    "\n",
    "# adapt data for supervised learning\n",
    "adapted2 = series_to_supervised(scaled2, n_years_back, 1)\n",
    "print(adapted2.shape)"
   ]
  },
  {
   "cell_type": "code",
   "execution_count": 32,
   "metadata": {},
   "outputs": [
    {
     "name": "stdout",
     "output_type": "stream",
     "text": [
      "(63, 175245) 63 (37, 35049)\n"
     ]
    }
   ],
   "source": [
    "# test again with model\n",
    "train_ratio = 0.633\n",
    "num_train = int(train_ratio * adapted2.shape[0])\n",
    "\n",
    "values = adapted2.values\n",
    "train = values[:num_train, :]\n",
    "test = values[num_train:, :]\n",
    "\n",
    "n_obs = n_years_back * n_features_r\n",
    "train_X_o, train_y_o = train[:, :n_obs], train[:, -n_features_r:]\n",
    "test_X_o, test_y_o = test[:, :n_obs], test[:, -n_features_r:]\n",
    "print(train_X_o.shape, len(train_X_o), test_y_o.shape)"
   ]
  },
  {
   "cell_type": "code",
   "execution_count": 33,
   "metadata": {},
   "outputs": [
    {
     "name": "stdout",
     "output_type": "stream",
     "text": [
      "(63, 5, 35049) (63, 35049) (37, 5, 35049) (37, 35049)\n"
     ]
    }
   ],
   "source": [
    "# reshape data to 3d\n",
    "train_X = train_X_o.reshape((train_X_o.shape[0], n_years_back, n_features_r))\n",
    "test_X = test_X_o.reshape((test_X_o.shape[0], n_years_back, n_features_r))\n",
    "\n",
    "train_y = train_y_o\n",
    "test_y = test_y_o\n",
    "\n",
    "# train_y = train_y_o.reshape(train_y_o.shape[0], 1, n_features)\n",
    "# test_y = test_y.reshape(test_y.shape[0], 1, n_features)\n",
    "\n",
    "print(train_X.shape, train_y.shape, test_X.shape, test_y.shape)"
   ]
  },
  {
   "cell_type": "code",
   "execution_count": 34,
   "metadata": {},
   "outputs": [],
   "source": [
    "# model \n",
    "model2 = Sequential()\n",
    "model2.add(LSTM(32, input_shape=(train_X.shape[1], train_X.shape[2])))\n",
    "model2.add(Dense(n_features_r))\n",
    "model2.compile(loss='mae', optimizer=adam)"
   ]
  },
  {
   "cell_type": "code",
   "execution_count": 35,
   "metadata": {
    "scrolled": true
   },
   "outputs": [
    {
     "name": "stdout",
     "output_type": "stream",
     "text": [
      "Train on 63 samples, validate on 37 samples\n",
      "Epoch 1/100\n",
      "63/63 [==============================] - 2s 38ms/step - loss: 0.6721 - val_loss: 1.0776\n",
      "Epoch 2/100\n",
      "63/63 [==============================] - 1s 10ms/step - loss: 0.6327 - val_loss: 1.0764\n",
      "Epoch 3/100\n",
      "63/63 [==============================] - 1s 11ms/step - loss: 0.5730 - val_loss: 1.0737\n",
      "Epoch 4/100\n",
      "63/63 [==============================] - 1s 11ms/step - loss: 0.5006 - val_loss: 1.0694\n",
      "Epoch 5/100\n",
      "63/63 [==============================] - 1s 11ms/step - loss: 0.4313 - val_loss: 1.0666\n",
      "Epoch 6/100\n",
      "63/63 [==============================] - 1s 10ms/step - loss: 0.3953 - val_loss: 1.0655\n",
      "Epoch 7/100\n",
      "63/63 [==============================] - 1s 10ms/step - loss: 0.3845 - val_loss: 1.0657\n",
      "Epoch 8/100\n",
      "63/63 [==============================] - 1s 11ms/step - loss: 0.3742 - val_loss: 1.0657\n",
      "Epoch 9/100\n",
      "63/63 [==============================] - 1s 10ms/step - loss: 0.3579 - val_loss: 1.0657\n",
      "Epoch 10/100\n",
      "63/63 [==============================] - 1s 10ms/step - loss: 0.3447 - val_loss: 1.0657\n",
      "Epoch 11/100\n",
      "63/63 [==============================] - 1s 11ms/step - loss: 0.3382 - val_loss: 1.0646\n",
      "Epoch 12/100\n",
      "63/63 [==============================] - 1s 11ms/step - loss: 0.3333 - val_loss: 1.0627\n",
      "Epoch 13/100\n",
      "63/63 [==============================] - 1s 12ms/step - loss: 0.3261 - val_loss: 1.0603\n",
      "Epoch 14/100\n",
      "63/63 [==============================] - 1s 12ms/step - loss: 0.3166 - val_loss: 1.0578\n",
      "Epoch 15/100\n",
      "63/63 [==============================] - 1s 11ms/step - loss: 0.3104 - val_loss: 1.0557\n",
      "Epoch 16/100\n",
      "63/63 [==============================] - 1s 11ms/step - loss: 0.3072 - val_loss: 1.0538\n",
      "Epoch 17/100\n",
      "63/63 [==============================] - 1s 11ms/step - loss: 0.3033 - val_loss: 1.0525\n",
      "Epoch 18/100\n",
      "63/63 [==============================] - 1s 12ms/step - loss: 0.2972 - val_loss: 1.0515\n",
      "Epoch 19/100\n",
      "63/63 [==============================] - 1s 11ms/step - loss: 0.2917 - val_loss: 1.0504\n",
      "Epoch 20/100\n",
      "63/63 [==============================] - 1s 11ms/step - loss: 0.2895 - val_loss: 1.0489\n",
      "Epoch 21/100\n",
      "63/63 [==============================] - 1s 12ms/step - loss: 0.2869 - val_loss: 1.0473\n",
      "Epoch 22/100\n",
      "63/63 [==============================] - 1s 12ms/step - loss: 0.2829 - val_loss: 1.0463\n",
      "Epoch 23/100\n",
      "63/63 [==============================] - 1s 11ms/step - loss: 0.2793 - val_loss: 1.0454\n",
      "Epoch 24/100\n",
      "63/63 [==============================] - 1s 12ms/step - loss: 0.2764 - val_loss: 1.0447\n",
      "Epoch 25/100\n",
      "63/63 [==============================] - 1s 11ms/step - loss: 0.2738 - val_loss: 1.0439\n",
      "Epoch 26/100\n",
      "63/63 [==============================] - 1s 10ms/step - loss: 0.2710 - val_loss: 1.0425\n",
      "Epoch 27/100\n",
      "63/63 [==============================] - 1s 11ms/step - loss: 0.2689 - val_loss: 1.0413\n",
      "Epoch 28/100\n",
      "63/63 [==============================] - 1s 11ms/step - loss: 0.2665 - val_loss: 1.0401\n",
      "Epoch 29/100\n",
      "63/63 [==============================] - 1s 11ms/step - loss: 0.2645 - val_loss: 1.0386\n",
      "Epoch 30/100\n",
      "63/63 [==============================] - 1s 12ms/step - loss: 0.2621 - val_loss: 1.0369\n",
      "Epoch 31/100\n",
      "63/63 [==============================] - 1s 12ms/step - loss: 0.2606 - val_loss: 1.0349\n",
      "Epoch 32/100\n",
      "63/63 [==============================] - 1s 11ms/step - loss: 0.2583 - val_loss: 1.0349\n",
      "Epoch 33/100\n",
      "63/63 [==============================] - 1s 11ms/step - loss: 0.2571 - val_loss: 1.0353\n",
      "Epoch 34/100\n",
      "63/63 [==============================] - 1s 11ms/step - loss: 0.2551 - val_loss: 1.0358\n",
      "Epoch 35/100\n",
      "63/63 [==============================] - 1s 12ms/step - loss: 0.2533 - val_loss: 1.0361\n",
      "Epoch 36/100\n",
      "63/63 [==============================] - 1s 12ms/step - loss: 0.2515 - val_loss: 1.0371\n",
      "Epoch 37/100\n",
      "63/63 [==============================] - 1s 12ms/step - loss: 0.2493 - val_loss: 1.0368\n",
      "Epoch 38/100\n",
      "63/63 [==============================] - 1s 11ms/step - loss: 0.2479 - val_loss: 1.0362\n",
      "Epoch 39/100\n",
      "63/63 [==============================] - 1s 11ms/step - loss: 0.2471 - val_loss: 1.0375\n",
      "Epoch 40/100\n",
      "63/63 [==============================] - 1s 11ms/step - loss: 0.2461 - val_loss: 1.0370\n",
      "Epoch 41/100\n",
      "63/63 [==============================] - 1s 12ms/step - loss: 0.2452 - val_loss: 1.0364\n",
      "Epoch 42/100\n",
      "63/63 [==============================] - 1s 12ms/step - loss: 0.2432 - val_loss: 1.0357\n",
      "Epoch 43/100\n",
      "63/63 [==============================] - 1s 11ms/step - loss: 0.2414 - val_loss: 1.0350\n",
      "Epoch 44/100\n",
      "63/63 [==============================] - 1s 10ms/step - loss: 0.2400 - val_loss: 1.0343\n",
      "Epoch 45/100\n",
      "63/63 [==============================] - 1s 13ms/step - loss: 0.2391 - val_loss: 1.0337\n",
      "Epoch 46/100\n",
      "63/63 [==============================] - 1s 10ms/step - loss: 0.2383 - val_loss: 1.0336\n",
      "Epoch 47/100\n",
      "63/63 [==============================] - 1s 10ms/step - loss: 0.2371 - val_loss: 1.0339\n",
      "Epoch 48/100\n",
      "63/63 [==============================] - 1s 10ms/step - loss: 0.2361 - val_loss: 1.0341\n",
      "Epoch 49/100\n",
      "63/63 [==============================] - 1s 10ms/step - loss: 0.2351 - val_loss: 1.0341\n",
      "Epoch 50/100\n",
      "63/63 [==============================] - 1s 10ms/step - loss: 0.2342 - val_loss: 1.0339\n",
      "Epoch 51/100\n",
      "63/63 [==============================] - 1s 10ms/step - loss: 0.2331 - val_loss: 1.0337\n",
      "Epoch 52/100\n",
      "63/63 [==============================] - 1s 10ms/step - loss: 0.2320 - val_loss: 1.0335\n",
      "Epoch 53/100\n",
      "63/63 [==============================] - 1s 10ms/step - loss: 0.2314 - val_loss: 1.0333\n",
      "Epoch 54/100\n",
      "63/63 [==============================] - 1s 10ms/step - loss: 0.2307 - val_loss: 1.0330\n",
      "Epoch 55/100\n",
      "63/63 [==============================] - 1s 10ms/step - loss: 0.2300 - val_loss: 1.0328\n",
      "Epoch 56/100\n",
      "63/63 [==============================] - 1s 10ms/step - loss: 0.2290 - val_loss: 1.0325\n",
      "Epoch 57/100\n",
      "63/63 [==============================] - 1s 11ms/step - loss: 0.2282 - val_loss: 1.0322\n",
      "Epoch 58/100\n",
      "63/63 [==============================] - 1s 10ms/step - loss: 0.2274 - val_loss: 1.0319\n",
      "Epoch 59/100\n",
      "63/63 [==============================] - 1s 10ms/step - loss: 0.2268 - val_loss: 1.0316\n",
      "Epoch 60/100\n",
      "63/63 [==============================] - 1s 10ms/step - loss: 0.2262 - val_loss: 1.0313\n",
      "Epoch 61/100\n",
      "63/63 [==============================] - 1s 10ms/step - loss: 0.2251 - val_loss: 1.0311\n",
      "Epoch 62/100\n",
      "63/63 [==============================] - 1s 10ms/step - loss: 0.2242 - val_loss: 1.0308\n",
      "Epoch 63/100\n",
      "63/63 [==============================] - 1s 10ms/step - loss: 0.2236 - val_loss: 1.0306\n",
      "Epoch 64/100\n",
      "63/63 [==============================] - 1s 10ms/step - loss: 0.2228 - val_loss: 1.0304\n",
      "Epoch 65/100\n",
      "63/63 [==============================] - 1s 12ms/step - loss: 0.2221 - val_loss: 1.0302\n",
      "Epoch 66/100\n",
      "63/63 [==============================] - 1s 11ms/step - loss: 0.2215 - val_loss: 1.0300\n",
      "Epoch 67/100\n",
      "63/63 [==============================] - 1s 10ms/step - loss: 0.2210 - val_loss: 1.0299\n",
      "Epoch 68/100\n",
      "63/63 [==============================] - 1s 10ms/step - loss: 0.2204 - val_loss: 1.0298\n",
      "Epoch 69/100\n",
      "63/63 [==============================] - 1s 10ms/step - loss: 0.2198 - val_loss: 1.0297\n",
      "Epoch 70/100\n",
      "63/63 [==============================] - 1s 10ms/step - loss: 0.2192 - val_loss: 1.0296\n",
      "Epoch 71/100\n",
      "63/63 [==============================] - 1s 10ms/step - loss: 0.2186 - val_loss: 1.0295\n",
      "Epoch 72/100\n",
      "63/63 [==============================] - 1s 9ms/step - loss: 0.2181 - val_loss: 1.0294\n",
      "Epoch 73/100\n",
      "63/63 [==============================] - 1s 10ms/step - loss: 0.2176 - val_loss: 1.0293\n",
      "Epoch 74/100\n",
      "63/63 [==============================] - 1s 10ms/step - loss: 0.2171 - val_loss: 1.0292\n",
      "Epoch 75/100\n",
      "63/63 [==============================] - 1s 10ms/step - loss: 0.2165 - val_loss: 1.0291\n",
      "Epoch 76/100\n",
      "63/63 [==============================] - 1s 10ms/step - loss: 0.2161 - val_loss: 1.0290\n",
      "Epoch 77/100\n",
      "63/63 [==============================] - 1s 10ms/step - loss: 0.2156 - val_loss: 1.0289\n",
      "Epoch 78/100\n",
      "63/63 [==============================] - 1s 12ms/step - loss: 0.2152 - val_loss: 1.0288\n",
      "Epoch 79/100\n",
      "63/63 [==============================] - 1s 10ms/step - loss: 0.2148 - val_loss: 1.0287\n",
      "Epoch 80/100\n",
      "63/63 [==============================] - 1s 10ms/step - loss: 0.2143 - val_loss: 1.0285\n",
      "Epoch 81/100\n",
      "63/63 [==============================] - 1s 10ms/step - loss: 0.2139 - val_loss: 1.0284\n"
     ]
    },
    {
     "name": "stdout",
     "output_type": "stream",
     "text": [
      "Epoch 82/100\n",
      "63/63 [==============================] - 1s 10ms/step - loss: 0.2135 - val_loss: 1.0283\n",
      "Epoch 83/100\n",
      "63/63 [==============================] - 1s 10ms/step - loss: 0.2131 - val_loss: 1.0282\n",
      "Epoch 84/100\n",
      "63/63 [==============================] - 1s 12ms/step - loss: 0.2127 - val_loss: 1.0282\n",
      "Epoch 85/100\n",
      "63/63 [==============================] - 1s 10ms/step - loss: 0.2123 - val_loss: 1.0281\n",
      "Epoch 86/100\n",
      "63/63 [==============================] - 1s 10ms/step - loss: 0.2120 - val_loss: 1.0280\n",
      "Epoch 87/100\n",
      "63/63 [==============================] - 1s 10ms/step - loss: 0.2116 - val_loss: 1.0280\n",
      "Epoch 88/100\n",
      "63/63 [==============================] - 1s 10ms/step - loss: 0.2114 - val_loss: 1.0279\n",
      "Epoch 89/100\n",
      "63/63 [==============================] - 1s 10ms/step - loss: 0.2111 - val_loss: 1.0279\n",
      "Epoch 90/100\n",
      "63/63 [==============================] - 1s 10ms/step - loss: 0.2108 - val_loss: 1.0278\n",
      "Epoch 91/100\n",
      "63/63 [==============================] - 1s 10ms/step - loss: 0.2105 - val_loss: 1.0278\n",
      "Epoch 92/100\n",
      "63/63 [==============================] - 1s 10ms/step - loss: 0.2102 - val_loss: 1.0278\n",
      "Epoch 93/100\n",
      "63/63 [==============================] - 1s 10ms/step - loss: 0.2098 - val_loss: 1.0277\n",
      "Epoch 94/100\n",
      "63/63 [==============================] - 1s 10ms/step - loss: 0.2095 - val_loss: 1.0277\n",
      "Epoch 95/100\n",
      "63/63 [==============================] - 1s 10ms/step - loss: 0.2092 - val_loss: 1.0276\n",
      "Epoch 96/100\n",
      "63/63 [==============================] - 1s 11ms/step - loss: 0.2089 - val_loss: 1.0276\n",
      "Epoch 97/100\n",
      "63/63 [==============================] - 1s 10ms/step - loss: 0.2085 - val_loss: 1.0276\n",
      "Epoch 98/100\n",
      "63/63 [==============================] - 1s 11ms/step - loss: 0.2083 - val_loss: 1.0276\n",
      "Epoch 99/100\n",
      "63/63 [==============================] - 1s 10ms/step - loss: 0.2080 - val_loss: 1.0276\n",
      "Epoch 100/100\n",
      "63/63 [==============================] - 1s 12ms/step - loss: 0.2076 - val_loss: 1.0276\n",
      "Wall time: 1min 9s\n"
     ]
    }
   ],
   "source": [
    "%%time\n",
    "# fir model\n",
    "# silence the training process for simplicity\n",
    "result = model2.fit(train_X, train_y, epochs=100, batch_size=32, validation_data=(test_X, test_y), verbose=1, shuffle=False)"
   ]
  },
  {
   "cell_type": "code",
   "execution_count": 36,
   "metadata": {},
   "outputs": [
    {
     "data": {
      "image/png": "[encoded data removed]",
      "text/plain": [
       "<matplotlib.figure.Figure at 0x29d32ebc390>"
      ]
     },
     "metadata": {},
     "output_type": "display_data"
    }
   ],
   "source": [
    "# plot loss over epochs\n",
    "plt.plot(result.history['loss'], label='train')\n",
    "plt.plot(result.history['val_loss'], label='test')\n",
    "plt.legend()\n",
    "plt.show()"
   ]
  },
  {
   "cell_type": "code",
   "execution_count": 37,
   "metadata": {},
   "outputs": [
    {
     "name": "stdout",
     "output_type": "stream",
     "text": [
      "Test RMSE: 1.5437\n",
      "Train RMSE: 0.5486\n"
     ]
    }
   ],
   "source": [
    "# make a prediction for test set\n",
    "test_yhat = model2.predict(test_X)\n",
    "\n",
    "test_X_s = test_X.reshape((test_X.shape[0], n_years_back * n_features_r))\n",
    "# invert scaling for prediction\n",
    "test_inv_yhat = scaler2.inverse_transform(test_yhat)\n",
    "# invert scaling for actual\n",
    "test_inv_y = scaler2.inverse_transform(test_y)\n",
    "# calculate RMSE\n",
    "rmse = math.sqrt(mean_squared_error(test_inv_y, test_inv_yhat))\n",
    "print('Test RMSE: %.4f' % rmse)\n",
    "\n",
    "# make a prediction for train set\n",
    "train_yhat = model2.predict(train_X)\n",
    "train_X_s = train_X.reshape((train_X.shape[0], n_years_back * n_features_r))\n",
    "# invert scaling for prediction\n",
    "train_inv_yhat = scaler2.inverse_transform(train_yhat)\n",
    "# invert scaling for actual\n",
    "train_inv_y = scaler2.inverse_transform(train_y)\n",
    "\n",
    "# calculate RMSE\n",
    "rmse = math.sqrt(mean_squared_error(train_inv_y, train_inv_yhat))\n",
    "print('Train RMSE: %.4f' % rmse)"
   ]
  },
  {
   "cell_type": "code",
   "execution_count": 38,
   "metadata": {},
   "outputs": [
    {
     "name": "stdout",
     "output_type": "stream",
     "text": [
      "Year of  2014 :\n",
      "Truth:       ('Emma', 'Olivia', 'Noah', 'Sophia', 'Liam')\n",
      "Prediction:  ('James', 'John', 'Robert', 'William', 'Mary')\n",
      "Year of  2013 :\n",
      "Truth:       ('Sophia', 'Emma', 'Olivia', 'Noah', 'Liam')\n",
      "Prediction:  ('James', 'John', 'Robert', 'William', 'Mary')\n"
     ]
    }
   ],
   "source": [
    "# sample comparison\n",
    "n_top = 5\n",
    "\n",
    "# print(np.where(list_of_names_fs == \"Emma\"))\n",
    "\n",
    "for itr in range(1,3):\n",
    "    year = 2015 - itr\n",
    "    print('Year of ', year, ':')\n",
    "    # load truth and prediction into dict\n",
    "    d = {}\n",
    "    d_hat = {}\n",
    "    for i in range(n_features_r):\n",
    "        d[list_of_names_fs[i]] = test_inv_y[-itr][i]\n",
    "        d_hat[list_of_names_fs[i]] = test_inv_yhat[-itr][i]\n",
    "    print('Truth:      ', list(zip(*sorted(d.items(), key=lambda t: t[1], reverse=True)))[0][:n_top])\n",
    "#    print('Truth:      ', list(zip(*sorted(d.items(), key=lambda t: t[1], reverse=True)))[1][:n_top])\n",
    "    print('Prediction: ', list(zip(*sorted(d_hat.items(), key=lambda t: t[1], reverse=True)))[0][:n_top])\n",
    "#    print('Prediction: ', list(zip(*sorted(d_hat.items(), key=lambda t: t[1], reverse=True)))[1][:n_top])"
   ]
  },
  {
   "cell_type": "code",
   "execution_count": 39,
   "metadata": {},
   "outputs": [],
   "source": [
    "train_inv_yhat_m1fs = train_inv_yhat\n",
    "train_inv_y_m1fs = train_inv_y\n",
    "test_inv_yhat_m1fs = test_inv_yhat\n",
    "test_inv_y_m1fs = test_inv_y"
   ]
  },
  {
   "cell_type": "code",
   "execution_count": 40,
   "metadata": {},
   "outputs": [
    {
     "name": "stdout",
     "output_type": "stream",
     "text": [
      "[0.41 0.43 0.41 0.43 0.43 0.34 0.34 0.34 0.34 0.64 0.64 0.8  0.82 0.86\n",
      " 0.65 0.65 0.27 0.61 0.61 0.66 0.18 0.25 0.23 0.25 0.37 0.42 0.37 0.49\n",
      " 0.52 0.42 0.46 0.4  0.35 0.32 0.35 0.16 0.28 0.28 0.5  0.3  0.16 0.25\n",
      " 0.16 0.16 0.2  0.24 0.19 0.16 0.43 0.43 0.47 0.84 0.84 0.63 0.86 0.66\n",
      " 0.52 0.38 0.38 0.34 0.34 0.5  0.59 0.34 0.34 0.32 0.32 0.32 0.32 0.32\n",
      " 0.3  0.32 0.3  0.06 0.08 0.04 0.06 0.02 0.02 0.02 0.02 0.02 0.02 0.02\n",
      " 0.04 0.04 0.04 0.07 0.04 0.02 0.02 0.02 0.04 0.04 0.04 0.04 0.04 0.02\n",
      " 0.02 0.02]\n"
     ]
    },
    {
     "data": {
      "image/png": "[encoded data removed]",
      "text/plain": [
       "<matplotlib.figure.Figure at 0x29cee92f438>"
      ]
     },
     "metadata": {},
     "output_type": "display_data"
    }
   ],
   "source": [
    "# compute and plot scores of test set\n",
    "scores = []\n",
    "\n",
    "final_truth = np.concatenate((train_inv_y, test_inv_y))\n",
    "final_result = np.concatenate((train_inv_yhat, test_inv_yhat))\n",
    "\n",
    "for i in range(len(adapted)):\n",
    "    # global_index = n_years_back + num_train + i\n",
    "    scores.append( get_accuracy_score(final_truth[i], final_result[i]))\n",
    "\n",
    "print(np.round(scores, 2))\n",
    "plt.plot(np.round(scores, 2), label='Accuracy Score')\n",
    "plt.axvline(x=num_train, linestyle='-.', color='r')\n",
    "plt.title('Accuracy Score for Multivariate Model w/ Feature Selection')\n",
    "plt.xlabel('Year increment starting with 1910')\n",
    "plt.legend()\n",
    "plt.show()\n",
    "\n"
   ]
  },
  {
   "cell_type": "code",
   "execution_count": 41,
   "metadata": {},
   "outputs": [
    {
     "name": "stdout",
     "output_type": "stream",
     "text": [
      "0.43333333333333346 0.11167567567567567\n"
     ]
    }
   ],
   "source": [
    "print(np.mean(scores[:num_train]), np.mean(scores[num_train:]))"
   ]
  },
  {
   "cell_type": "code",
   "execution_count": 42,
   "metadata": {},
   "outputs": [
    {
     "name": "stdout",
     "output_type": "stream",
     "text": [
      "(100, 35049)\n"
     ]
    },
    {
     "data": {
      "image/png": "[encoded data removed]",
      "text/plain": [
       "<matplotlib.figure.Figure at 0x29d32ea1828>"
      ]
     },
     "metadata": {},
     "output_type": "display_data"
    }
   ],
   "source": [
    "# plot predicted data\n",
    "z_hat = np.concatenate((train_inv_yhat, test_inv_yhat))\n",
    "print(z_hat.shape)\n",
    "\n",
    "# Plot the density graph of tfs\n",
    "y = range(n_features_r)\n",
    "x = range(1910+n_years_back, 2015)\n",
    "X,Y = np.meshgrid(x,y)\n",
    "\n",
    "plt.pcolormesh(X,Y,z_hat.transpose(), cmap=plt.cm.Greys)\n",
    "plt.colorbar(label='log-TF')\n",
    "plt.title(\"Nation Names vs Years(Predicted by Mul. w/ Feature selection)\")\n",
    "plt.xlabel(\"Years\")\n",
    "plt.ylabel(\"Names\")\n",
    "plt.axvline(x=1910+int(train_ratio*num_years))\n",
    "plt.show()"
   ]
  },
  {
   "cell_type": "markdown",
   "metadata": {},
   "source": [
    "# Independent Univariate LSTM-RNN Model\n",
    "#### In multivariate model we suffer from the curse of dimensionality\n",
    "#### Hopefully we can solve it by using repeated independent univariate model"
   ]
  },
  {
   "cell_type": "code",
   "execution_count": 43,
   "metadata": {},
   "outputs": [],
   "source": [
    "# Process Data the same way as in Model 1"
   ]
  },
  {
   "cell_type": "code",
   "execution_count": 44,
   "metadata": {},
   "outputs": [
    {
     "name": "stdout",
     "output_type": "stream",
     "text": [
      "(105, 93805)\n",
      "(100, 562830)\n"
     ]
    }
   ],
   "source": [
    "# put processed data back to dataframe\n",
    "dataset = pd.DataFrame(wz)\n",
    "print(dataset.shape)\n",
    "\n",
    "# normalize features using scaler to (0,1)\n",
    "scaler3 = StandardScaler()\n",
    "scaled3 = scaler3.fit_transform(dataset)\n",
    "\n",
    "# adapt data for supervised learning\n",
    "adapted3 = series_to_supervised(scaled3, n_years_back, 1)\n",
    "print(adapted.shape)"
   ]
  },
  {
   "cell_type": "code",
   "execution_count": 45,
   "metadata": {},
   "outputs": [
    {
     "name": "stdout",
     "output_type": "stream",
     "text": [
      "(63, 469025) 63 (37, 93805)\n"
     ]
    }
   ],
   "source": [
    "# split data into train and test sets\n",
    "train_ratio = 0.633\n",
    "num_train = int(train_ratio * adapted3.shape[0])\n",
    "\n",
    "values = adapted3.values\n",
    "train = values[:num_train, :]\n",
    "test = values[num_train:, :]\n",
    "\n",
    "n_obs = n_years_back * n_features\n",
    "train_X_o, train_y_o = train[:, :n_obs], train[:, -n_features:]\n",
    "test_X_o, test_y_o = test[:, :n_obs], test[:, -n_features:]\n",
    "print(train_X_o.shape, len(train_X_o), test_y_o.shape)"
   ]
  },
  {
   "cell_type": "code",
   "execution_count": 46,
   "metadata": {},
   "outputs": [
    {
     "name": "stdout",
     "output_type": "stream",
     "text": [
      "(63, 5, 93805) (63, 93805) (37, 5, 93805) (37, 93805)\n"
     ]
    }
   ],
   "source": [
    "# reshape data to 3d\n",
    "train_X = train_X_o.reshape((train_X_o.shape[0], n_years_back, n_features))\n",
    "test_X = test_X_o.reshape((test_X_o.shape[0], n_years_back, n_features))\n",
    "\n",
    "train_y = train_y_o\n",
    "test_y = test_y_o\n",
    "\n",
    "# train_y = train_y_o.reshape(train_y_o.shape[0], 1, n_features)\n",
    "# test_y = test_y.reshape(test_y.shape[0], 1, n_features)\n",
    "\n",
    "print(train_X.shape, train_y.shape, test_X.shape, test_y.shape)"
   ]
  },
  {
   "cell_type": "code",
   "execution_count": null,
   "metadata": {
    "scrolled": true
   },
   "outputs": [
    {
     "name": "stdout",
     "output_type": "stream",
     "text": [
      "processing idx : 0\n",
      "processing idx : 5000\n",
      "processing idx : 10000\n",
      "processing idx : 15000\n",
      "processing idx : 20000\n",
      "processing idx : 25000\n",
      "processing idx : 30000\n",
      "processing idx : 35000\n"
     ]
    }
   ],
   "source": [
    "%%time\n",
    "# fir model\n",
    "# silence the training process for simplicity\n",
    "test_yhat = []\n",
    "train_yhat = []\n",
    "loss = []\n",
    "val_loss = []\n",
    "\n",
    "# model \n",
    "model = Sequential()\n",
    "model.add(LSTM(2, input_shape=(train_X.shape[1], 1)))\n",
    "model.add(Dense(1))\n",
    "model.compile(loss='mae', optimizer=adam)\n",
    "\n",
    "n_epoch = 50\n",
    "\n",
    "for n in range(n_features):\n",
    "    train_X_row = train_X[:,:,n]\n",
    "    train_y_row = train_y[:,n]\n",
    "    test_X_row = test_X[:,:,n]\n",
    "    test_y_row = test_y[:,n]\n",
    "    \n",
    "    train_X_row = train_X_row.reshape((train_X.shape[0], train_X.shape[1], 1))\n",
    "    train_y_row = train_y_row.reshape((train_y.shape[0], 1))\n",
    "    test_X_row = test_X_row.reshape((test_X.shape[0], test_X.shape[1], 1))\n",
    "    test_y_row = test_y_row.reshape((test_y.shape[0], 1))\n",
    "    \n",
    "    if n % 5000 == 0: \n",
    "        print(\"processing idx :\", n)\n",
    "    result = model.fit(train_X_row, train_y_row, epochs=n_epoch, batch_size=32, validation_data=(test_X_row, test_y_row), verbose=0, shuffle=False)\n",
    "    loss.append(result.history['loss'])\n",
    "    val_loss.append(result.history['val_loss'])\n",
    "    test_yhat.append(model.predict(test_X_row))\n",
    "    train_yhat.append(model.predict(train_X_row))\n",
    "    "
   ]
  },
  {
   "cell_type": "code",
   "execution_count": null,
   "metadata": {},
   "outputs": [],
   "source": [
    "test_yhat_reshape = np.array(test_yhat)\n",
    "train_yhat_reshape = np.array(train_yhat)\n",
    "\n",
    "test_yhat_reshape = test_yhat_reshape.reshape(test_y.shape)\n",
    "train_yhat_reshape = train_yhat_reshape.reshape(train_y.shape)\n",
    "print(test_yhat_reshape.shape, train_yhat_reshape.shape)"
   ]
  },
  {
   "cell_type": "code",
   "execution_count": null,
   "metadata": {},
   "outputs": [],
   "source": [
    "loss_np = np.array(loss)\n",
    "val_loss_np = np.array(val_loss)\n",
    "\n",
    "loss_np = loss_np.reshape((n_epoch, n_features))\n",
    "val_loss_np = val_loss_np.reshape((n_epoch, n_features))\n",
    "\n",
    "print(loss_np.shape, val_loss_np.shape)"
   ]
  },
  {
   "cell_type": "code",
   "execution_count": null,
   "metadata": {},
   "outputs": [],
   "source": [
    "# plot loss over epochs\n",
    "loss_np = loss_np.sum(axis=1)/n_features\n",
    "val_loss_np = val_loss_np.sum(axis=1)/n_features\n",
    "\n",
    "plt.plot(loss_np, label='train')\n",
    "plt.plot(val_loss_np, label='test')\n",
    "plt.legend()\n",
    "plt.show()"
   ]
  },
  {
   "cell_type": "code",
   "execution_count": null,
   "metadata": {},
   "outputs": [],
   "source": [
    "# make a prediction for test set\n",
    "# test_yhat = model.predict(test_X)\n",
    "test_yhat_reshape\n",
    "train_yhat_reshape\n",
    "\n",
    "test_X_s = test_X.reshape((test_X.shape[0], n_years_back * n_features))\n",
    "# invert scaling for prediction\n",
    "test_inv_yhat = scaler3.inverse_transform(test_yhat_reshape)\n",
    "# invert scaling for actual\n",
    "test_inv_y = scaler3.inverse_transform(test_y)\n",
    "\n",
    "# calculate RMSE\n",
    "rmse = math.sqrt(mean_squared_error(test_inv_y, test_inv_yhat))\n",
    "print('Test RMSE: %.4f' % rmse)\n",
    "\n",
    "# make a prediction for train set\n",
    "train_X_s = train_X.reshape((train_X.shape[0], n_years_back * n_features))\n",
    "# invert scaling for prediction\n",
    "train_inv_yhat = scaler3.inverse_transform(train_yhat_reshape)\n",
    "# invert scaling for actual\n",
    "train_inv_y = scaler3.inverse_transform(train_y)\n",
    "\n",
    "# calculate RMSE\n",
    "rmse = math.sqrt(mean_squared_error(train_inv_y, train_inv_yhat))\n",
    "print('Train RMSE: %.4f' % rmse)"
   ]
  },
  {
   "cell_type": "code",
   "execution_count": null,
   "metadata": {},
   "outputs": [],
   "source": []
  },
  {
   "cell_type": "code",
   "execution_count": null,
   "metadata": {},
   "outputs": [],
   "source": [
    "# sample comparison\n",
    "n_top = 5\n",
    "\n",
    "for itr in range(1,3):\n",
    "    year = 2015 - itr\n",
    "    print('Year of ', year, ':')\n",
    "    # load truth and prediction into dict\n",
    "    d = {}\n",
    "    d_hat = {}\n",
    "    for i in range(n_features_r):\n",
    "        d[list_of_names[i]] = test_inv_y[-itr][i]\n",
    "        d_hat[list_of_names[i]] = test_inv_yhat[-itr][i]\n",
    "    print('Truth:      ', list(zip(*sorted(d.items(), key=lambda t: t[1], reverse=True)))[0][:n_top])\n",
    "#    print('Truth:      ', list(zip(*sorted(d.items(), key=lambda t: t[1], reverse=True)))[1][:n_top])\n",
    "    print('Prediction: ', list(zip(*sorted(d_hat.items(), key=lambda t: t[1], reverse=True)))[0][:n_top])\n",
    "#    print('Prediction: ', list(zip(*sorted(d_hat.items(), key=lambda t: t[1], reverse=True)))[1][:n_top])"
   ]
  },
  {
   "cell_type": "code",
   "execution_count": null,
   "metadata": {},
   "outputs": [],
   "source": [
    "train_inv_yhat_i = train_inv_yhat\n",
    "train_inv_y_i = train_inv_y\n",
    "test_inv_yhat_i = test_inv_yhat\n",
    "test_inv_y_i = test_inv_y"
   ]
  },
  {
   "cell_type": "code",
   "execution_count": null,
   "metadata": {},
   "outputs": [],
   "source": [
    "# compute and plot scores of test set\n",
    "scores = []\n",
    "\n",
    "final_truth = np.concatenate((train_inv_y, test_inv_y))\n",
    "final_result = np.concatenate((train_inv_yhat, test_inv_yhat))\n",
    "\n",
    "for i in range(len(adapted)):\n",
    "    # global_index = n_years_back + num_train + i\n",
    "    scores.append( get_accuracy_score(final_truth[i], final_result[i]))\n",
    "\n",
    "print(np.round(scores, 2))\n",
    "plt.plot(np.round(scores, 2), label='Accuracy Score')\n",
    "plt.axvline(x=num_train, linestyle='-.', color='r')\n",
    "plt.title('Accuracy Score for Independent Model')\n",
    "plt.xlabel('Year increment starting with 1910')\n",
    "plt.legend()\n",
    "plt.show()"
   ]
  },
  {
   "cell_type": "code",
   "execution_count": null,
   "metadata": {},
   "outputs": [],
   "source": [
    "# plot predicted data\n",
    "z_hat = np.concatenate((train_inv_yhat, test_inv_yhat))\n",
    "print(z_hat.shape)\n",
    "\n",
    "# Plot the density graph of tfs\n",
    "y = range(num_unique_names)\n",
    "x = range(1910+n_years_back, 2015)\n",
    "X,Y = np.meshgrid(x,y)\n",
    "\n",
    "plt.pcolormesh(X,Y,z_hat.transpose(), cmap=plt.cm.Greys)\n",
    "plt.colorbar(label='log-TF')\n",
    "plt.title(\"Nation Names vs Years(Predicted by Ind.)\")\n",
    "plt.xlabel(\"Years\")\n",
    "plt.ylabel(\"Names\")\n",
    "plt.axvline(x=1910+int(train_ratio*num_years), linestyle='-.')\n",
    "plt.show()"
   ]
  },
  {
   "cell_type": "code",
   "execution_count": null,
   "metadata": {},
   "outputs": [],
   "source": []
  }
 ],
 "metadata": {
  "kernelspec": {
   "display_name": "Python 3",
   "language": "python",
   "name": "python3"
  },
  "language_info": {
   "codemirror_mode": {
    "name": "ipython",
    "version": 3
   },
   "file_extension": ".py",
   "mimetype": "text/x-python",
   "name": "python",
   "nbconvert_exporter": "python",
   "pygments_lexer": "ipython3",
   "version": "3.6.3"
  }
 },
 "nbformat": 4,
 "nbformat_minor": 1
}
